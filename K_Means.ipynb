{
  "nbformat": 4,
  "nbformat_minor": 0,
  "metadata": {
    "colab": {
      "name": "K-Means.ipynb",
      "provenance": [],
      "collapsed_sections": []
    },
    "kernelspec": {
      "name": "python3",
      "display_name": "Python 3"
    },
    "language_info": {
      "name": "python"
    }
  },
  "cells": [
    {
      "cell_type": "code",
      "metadata": {
        "id": "H9JttK7LDSOc"
      },
      "source": [
        "import matplotlib.pylab as plt\n",
        "from sklearn import metrics\n",
        "import numpy as np\n",
        "import pandas as pd\n",
        "import seaborn as sns"
      ],
      "execution_count": null,
      "outputs": []
    },
    {
      "cell_type": "code",
      "metadata": {
        "id": "OxRQVuGXDuQw",
        "colab": {
          "base_uri": "https://localhost:8080/",
          "height": 424
        },
        "outputId": "0995f1b5-a897-4f9e-f571-e98fa09f043f"
      },
      "source": [
        "data = pd.read_csv('Child smokers.csv')\n",
        "data"
      ],
      "execution_count": null,
      "outputs": [
        {
          "output_type": "execute_result",
          "data": {
            "text/html": [
              "<div>\n",
              "<style scoped>\n",
              "    .dataframe tbody tr th:only-of-type {\n",
              "        vertical-align: middle;\n",
              "    }\n",
              "\n",
              "    .dataframe tbody tr th {\n",
              "        vertical-align: top;\n",
              "    }\n",
              "\n",
              "    .dataframe thead th {\n",
              "        text-align: right;\n",
              "    }\n",
              "</style>\n",
              "<table border=\"1\" class=\"dataframe\">\n",
              "  <thead>\n",
              "    <tr style=\"text-align: right;\">\n",
              "      <th></th>\n",
              "      <th>Age (years)</th>\n",
              "      <th>Height (cm)</th>\n",
              "      <th>FEV (litres)</th>\n",
              "      <th>Sex</th>\n",
              "      <th>Smoker</th>\n",
              "    </tr>\n",
              "  </thead>\n",
              "  <tbody>\n",
              "    <tr>\n",
              "      <th>0</th>\n",
              "      <td>9</td>\n",
              "      <td>145</td>\n",
              "      <td>1.708</td>\n",
              "      <td>female</td>\n",
              "      <td>non</td>\n",
              "    </tr>\n",
              "    <tr>\n",
              "      <th>1</th>\n",
              "      <td>8</td>\n",
              "      <td>171</td>\n",
              "      <td>1.724</td>\n",
              "      <td>female</td>\n",
              "      <td>non</td>\n",
              "    </tr>\n",
              "    <tr>\n",
              "      <th>2</th>\n",
              "      <td>7</td>\n",
              "      <td>138</td>\n",
              "      <td>1.720</td>\n",
              "      <td>female</td>\n",
              "      <td>non</td>\n",
              "    </tr>\n",
              "    <tr>\n",
              "      <th>3</th>\n",
              "      <td>9</td>\n",
              "      <td>135</td>\n",
              "      <td>1.558</td>\n",
              "      <td>male</td>\n",
              "      <td>non</td>\n",
              "    </tr>\n",
              "    <tr>\n",
              "      <th>4</th>\n",
              "      <td>9</td>\n",
              "      <td>145</td>\n",
              "      <td>1.895</td>\n",
              "      <td>male</td>\n",
              "      <td>non</td>\n",
              "    </tr>\n",
              "    <tr>\n",
              "      <th>...</th>\n",
              "      <td>...</td>\n",
              "      <td>...</td>\n",
              "      <td>...</td>\n",
              "      <td>...</td>\n",
              "      <td>...</td>\n",
              "    </tr>\n",
              "    <tr>\n",
              "      <th>649</th>\n",
              "      <td>15</td>\n",
              "      <td>152</td>\n",
              "      <td>2.278</td>\n",
              "      <td>female</td>\n",
              "      <td>smoker</td>\n",
              "    </tr>\n",
              "    <tr>\n",
              "      <th>650</th>\n",
              "      <td>16</td>\n",
              "      <td>183</td>\n",
              "      <td>4.872</td>\n",
              "      <td>male</td>\n",
              "      <td>smoker</td>\n",
              "    </tr>\n",
              "    <tr>\n",
              "      <th>651</th>\n",
              "      <td>16</td>\n",
              "      <td>170</td>\n",
              "      <td>4.270</td>\n",
              "      <td>male</td>\n",
              "      <td>smoker</td>\n",
              "    </tr>\n",
              "    <tr>\n",
              "      <th>652</th>\n",
              "      <td>15</td>\n",
              "      <td>173</td>\n",
              "      <td>3.727</td>\n",
              "      <td>male</td>\n",
              "      <td>smoker</td>\n",
              "    </tr>\n",
              "    <tr>\n",
              "      <th>653</th>\n",
              "      <td>16</td>\n",
              "      <td>160</td>\n",
              "      <td>2.795</td>\n",
              "      <td>female</td>\n",
              "      <td>smoker</td>\n",
              "    </tr>\n",
              "  </tbody>\n",
              "</table>\n",
              "<p>654 rows × 5 columns</p>\n",
              "</div>"
            ],
            "text/plain": [
              "     Age (years)  Height (cm)  FEV (litres)     Sex  Smoker\n",
              "0              9          145         1.708  female     non\n",
              "1              8          171         1.724  female     non\n",
              "2              7          138         1.720  female     non\n",
              "3              9          135         1.558    male     non\n",
              "4              9          145         1.895    male     non\n",
              "..           ...          ...           ...     ...     ...\n",
              "649           15          152         2.278  female  smoker\n",
              "650           16          183         4.872    male  smoker\n",
              "651           16          170         4.270    male  smoker\n",
              "652           15          173         3.727    male  smoker\n",
              "653           16          160         2.795  female  smoker\n",
              "\n",
              "[654 rows x 5 columns]"
            ]
          },
          "metadata": {
            "tags": []
          },
          "execution_count": 18
        }
      ]
    },
    {
      "cell_type": "code",
      "metadata": {
        "colab": {
          "base_uri": "https://localhost:8080/"
        },
        "id": "nW8Ve0SJJn9w",
        "outputId": "81809371-1141-4527-a391-7d635c439d05"
      },
      "source": [
        "data.shape"
      ],
      "execution_count": null,
      "outputs": [
        {
          "output_type": "execute_result",
          "data": {
            "text/plain": [
              "(654, 5)"
            ]
          },
          "metadata": {
            "tags": []
          },
          "execution_count": 20
        }
      ]
    },
    {
      "cell_type": "code",
      "metadata": {
        "colab": {
          "base_uri": "https://localhost:8080/"
        },
        "id": "05mkuCn9JslV",
        "outputId": "e46fb419-c4ba-4897-aff0-1e6fb5e303ad"
      },
      "source": [
        "data.columns"
      ],
      "execution_count": null,
      "outputs": [
        {
          "output_type": "execute_result",
          "data": {
            "text/plain": [
              "Index(['Age (years)', 'Height (cm)', 'FEV (litres)', 'Sex', 'Smoker'], dtype='object')"
            ]
          },
          "metadata": {
            "tags": []
          },
          "execution_count": 21
        }
      ]
    },
    {
      "cell_type": "code",
      "metadata": {
        "colab": {
          "base_uri": "https://localhost:8080/"
        },
        "id": "2iGEVXH1Ju5G",
        "outputId": "9556f89f-2957-4213-87e3-2d86f3037680"
      },
      "source": [
        "data.dtypes"
      ],
      "execution_count": null,
      "outputs": [
        {
          "output_type": "execute_result",
          "data": {
            "text/plain": [
              "Age (years)       int64\n",
              "Height (cm)       int64\n",
              "FEV (litres)    float64\n",
              "Sex              object\n",
              "Smoker           object\n",
              "dtype: object"
            ]
          },
          "metadata": {
            "tags": []
          },
          "execution_count": 22
        }
      ]
    },
    {
      "cell_type": "code",
      "metadata": {
        "id": "kBIDQtUIJyUf",
        "colab": {
          "base_uri": "https://localhost:8080/",
          "height": 300
        },
        "outputId": "954bbefb-30c7-42ce-ab43-e8fcc0137ed5"
      },
      "source": [
        "data.describe()"
      ],
      "execution_count": null,
      "outputs": [
        {
          "output_type": "execute_result",
          "data": {
            "text/html": [
              "<div>\n",
              "<style scoped>\n",
              "    .dataframe tbody tr th:only-of-type {\n",
              "        vertical-align: middle;\n",
              "    }\n",
              "\n",
              "    .dataframe tbody tr th {\n",
              "        vertical-align: top;\n",
              "    }\n",
              "\n",
              "    .dataframe thead th {\n",
              "        text-align: right;\n",
              "    }\n",
              "</style>\n",
              "<table border=\"1\" class=\"dataframe\">\n",
              "  <thead>\n",
              "    <tr style=\"text-align: right;\">\n",
              "      <th></th>\n",
              "      <th>Age (years)</th>\n",
              "      <th>Height (cm)</th>\n",
              "      <th>FEV (litres)</th>\n",
              "    </tr>\n",
              "  </thead>\n",
              "  <tbody>\n",
              "    <tr>\n",
              "      <th>count</th>\n",
              "      <td>654.000000</td>\n",
              "      <td>654.000000</td>\n",
              "      <td>654.000000</td>\n",
              "    </tr>\n",
              "    <tr>\n",
              "      <th>mean</th>\n",
              "      <td>9.931193</td>\n",
              "      <td>155.298165</td>\n",
              "      <td>2.636780</td>\n",
              "    </tr>\n",
              "    <tr>\n",
              "      <th>std</th>\n",
              "      <td>2.953935</td>\n",
              "      <td>14.471647</td>\n",
              "      <td>0.867059</td>\n",
              "    </tr>\n",
              "    <tr>\n",
              "      <th>min</th>\n",
              "      <td>3.000000</td>\n",
              "      <td>117.000000</td>\n",
              "      <td>0.791000</td>\n",
              "    </tr>\n",
              "    <tr>\n",
              "      <th>25%</th>\n",
              "      <td>8.000000</td>\n",
              "      <td>145.000000</td>\n",
              "      <td>1.981000</td>\n",
              "    </tr>\n",
              "    <tr>\n",
              "      <th>50%</th>\n",
              "      <td>10.000000</td>\n",
              "      <td>156.000000</td>\n",
              "      <td>2.547500</td>\n",
              "    </tr>\n",
              "    <tr>\n",
              "      <th>75%</th>\n",
              "      <td>12.000000</td>\n",
              "      <td>166.000000</td>\n",
              "      <td>3.118500</td>\n",
              "    </tr>\n",
              "    <tr>\n",
              "      <th>max</th>\n",
              "      <td>19.000000</td>\n",
              "      <td>188.000000</td>\n",
              "      <td>5.793000</td>\n",
              "    </tr>\n",
              "  </tbody>\n",
              "</table>\n",
              "</div>"
            ],
            "text/plain": [
              "       Age (years)  Height (cm)  FEV (litres)\n",
              "count   654.000000   654.000000    654.000000\n",
              "mean      9.931193   155.298165      2.636780\n",
              "std       2.953935    14.471647      0.867059\n",
              "min       3.000000   117.000000      0.791000\n",
              "25%       8.000000   145.000000      1.981000\n",
              "50%      10.000000   156.000000      2.547500\n",
              "75%      12.000000   166.000000      3.118500\n",
              "max      19.000000   188.000000      5.793000"
            ]
          },
          "metadata": {
            "tags": []
          },
          "execution_count": 23
        }
      ]
    },
    {
      "cell_type": "code",
      "metadata": {
        "colab": {
          "base_uri": "https://localhost:8080/",
          "height": 424
        },
        "id": "li7BA7AnKPea",
        "outputId": "01e1a843-d003-4be8-c55c-bbc470be3cee"
      },
      "source": [
        "data['Sex'] = data['Sex'].astype('category').cat.codes\n",
        "data['Smoker'] = data['Smoker'].astype('category').cat.codes\n",
        "data"
      ],
      "execution_count": 27,
      "outputs": [
        {
          "output_type": "execute_result",
          "data": {
            "text/html": [
              "<div>\n",
              "<style scoped>\n",
              "    .dataframe tbody tr th:only-of-type {\n",
              "        vertical-align: middle;\n",
              "    }\n",
              "\n",
              "    .dataframe tbody tr th {\n",
              "        vertical-align: top;\n",
              "    }\n",
              "\n",
              "    .dataframe thead th {\n",
              "        text-align: right;\n",
              "    }\n",
              "</style>\n",
              "<table border=\"1\" class=\"dataframe\">\n",
              "  <thead>\n",
              "    <tr style=\"text-align: right;\">\n",
              "      <th></th>\n",
              "      <th>Age (years)</th>\n",
              "      <th>Height (cm)</th>\n",
              "      <th>FEV (litres)</th>\n",
              "      <th>Sex</th>\n",
              "      <th>Smoker</th>\n",
              "    </tr>\n",
              "  </thead>\n",
              "  <tbody>\n",
              "    <tr>\n",
              "      <th>0</th>\n",
              "      <td>9</td>\n",
              "      <td>145</td>\n",
              "      <td>1.708</td>\n",
              "      <td>0</td>\n",
              "      <td>0</td>\n",
              "    </tr>\n",
              "    <tr>\n",
              "      <th>1</th>\n",
              "      <td>8</td>\n",
              "      <td>171</td>\n",
              "      <td>1.724</td>\n",
              "      <td>0</td>\n",
              "      <td>0</td>\n",
              "    </tr>\n",
              "    <tr>\n",
              "      <th>2</th>\n",
              "      <td>7</td>\n",
              "      <td>138</td>\n",
              "      <td>1.720</td>\n",
              "      <td>0</td>\n",
              "      <td>0</td>\n",
              "    </tr>\n",
              "    <tr>\n",
              "      <th>3</th>\n",
              "      <td>9</td>\n",
              "      <td>135</td>\n",
              "      <td>1.558</td>\n",
              "      <td>1</td>\n",
              "      <td>0</td>\n",
              "    </tr>\n",
              "    <tr>\n",
              "      <th>4</th>\n",
              "      <td>9</td>\n",
              "      <td>145</td>\n",
              "      <td>1.895</td>\n",
              "      <td>1</td>\n",
              "      <td>0</td>\n",
              "    </tr>\n",
              "    <tr>\n",
              "      <th>...</th>\n",
              "      <td>...</td>\n",
              "      <td>...</td>\n",
              "      <td>...</td>\n",
              "      <td>...</td>\n",
              "      <td>...</td>\n",
              "    </tr>\n",
              "    <tr>\n",
              "      <th>649</th>\n",
              "      <td>15</td>\n",
              "      <td>152</td>\n",
              "      <td>2.278</td>\n",
              "      <td>0</td>\n",
              "      <td>1</td>\n",
              "    </tr>\n",
              "    <tr>\n",
              "      <th>650</th>\n",
              "      <td>16</td>\n",
              "      <td>183</td>\n",
              "      <td>4.872</td>\n",
              "      <td>1</td>\n",
              "      <td>1</td>\n",
              "    </tr>\n",
              "    <tr>\n",
              "      <th>651</th>\n",
              "      <td>16</td>\n",
              "      <td>170</td>\n",
              "      <td>4.270</td>\n",
              "      <td>1</td>\n",
              "      <td>1</td>\n",
              "    </tr>\n",
              "    <tr>\n",
              "      <th>652</th>\n",
              "      <td>15</td>\n",
              "      <td>173</td>\n",
              "      <td>3.727</td>\n",
              "      <td>1</td>\n",
              "      <td>1</td>\n",
              "    </tr>\n",
              "    <tr>\n",
              "      <th>653</th>\n",
              "      <td>16</td>\n",
              "      <td>160</td>\n",
              "      <td>2.795</td>\n",
              "      <td>0</td>\n",
              "      <td>1</td>\n",
              "    </tr>\n",
              "  </tbody>\n",
              "</table>\n",
              "<p>654 rows × 5 columns</p>\n",
              "</div>"
            ],
            "text/plain": [
              "     Age (years)  Height (cm)  FEV (litres)  Sex  Smoker\n",
              "0              9          145         1.708    0       0\n",
              "1              8          171         1.724    0       0\n",
              "2              7          138         1.720    0       0\n",
              "3              9          135         1.558    1       0\n",
              "4              9          145         1.895    1       0\n",
              "..           ...          ...           ...  ...     ...\n",
              "649           15          152         2.278    0       1\n",
              "650           16          183         4.872    1       1\n",
              "651           16          170         4.270    1       1\n",
              "652           15          173         3.727    1       1\n",
              "653           16          160         2.795    0       1\n",
              "\n",
              "[654 rows x 5 columns]"
            ]
          },
          "metadata": {
            "tags": []
          },
          "execution_count": 27
        }
      ]
    },
    {
      "cell_type": "code",
      "metadata": {
        "id": "r2x0H1z6LnrN"
      },
      "source": [
        ""
      ],
      "execution_count": null,
      "outputs": []
    },
    {
      "cell_type": "markdown",
      "metadata": {
        "id": "7BjkWSMiE8PI"
      },
      "source": [
        "Considerando que el propósito de este análisis es el identificar los signos de la reducción de la capacidad pulmonar de los niños que fuman,\n",
        "se utilizará k = 3 debido a que se busca crear tres grupos que están expuestos a esto, el primer grupo tiene un riesgo bajo, el segundo uno moderado y el tercero, alto."
      ]
    },
    {
      "cell_type": "code",
      "metadata": {
        "id": "b3CdaatqF-Xo",
        "colab": {
          "base_uri": "https://localhost:8080/",
          "height": 458
        },
        "outputId": "39715233-5eee-468a-e049-4d38e9bd0180"
      },
      "source": [
        "sns.lmplot('Smoker','FEV (litres)',data)"
      ],
      "execution_count": 28,
      "outputs": [
        {
          "output_type": "stream",
          "text": [
            "/usr/local/lib/python3.7/dist-packages/seaborn/_decorators.py:43: FutureWarning: Pass the following variables as keyword args: x, y, data. From version 0.12, the only valid positional argument will be `data`, and passing other arguments without an explicit keyword will result in an error or misinterpretation.\n",
            "  FutureWarning\n"
          ],
          "name": "stderr"
        },
        {
          "output_type": "execute_result",
          "data": {
            "text/plain": [
              "<seaborn.axisgrid.FacetGrid at 0x7f41ebc2fcd0>"
            ]
          },
          "metadata": {
            "tags": []
          },
          "execution_count": 28
        },
        {
          "output_type": "display_data",
          "data": {
            "image/png": "[encoded data removed]",
            "text/plain": [
              "<Figure size 360x360 with 1 Axes>"
            ]
          },
          "metadata": {
            "tags": [],
            "needs_background": "light"
          }
        }
      ]
    }
  ]
}