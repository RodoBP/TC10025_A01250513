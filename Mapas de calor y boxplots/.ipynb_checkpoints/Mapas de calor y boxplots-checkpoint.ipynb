{
 "cells": [
  {
   "cell_type": "markdown",
   "metadata": {},
   "source": [
    "Antes de poder iniciar llamamos a las librerias que utilizaremos. En esta ocasion usaremos la libreria seaborn que nos ayudara a podeer estilizar algunas de nuestra graficas."
   ]
  },
  {
   "cell_type": "code",
   "execution_count": 104,
   "metadata": {},
   "outputs": [],
   "source": [
    "import pandas as pd\n",
    "import numpy as np\n",
    "import matplotlib.pyplot as plt\n",
    "import seaborn as sns\n",
    "sns.set_style(\"whitegrid\")\n",
    "sns.set_context(\"notebook\", font_scale=1,rc={\"lines.linewidth\":2,'font.family': [u'times']})"
   ]
  },
  {
   "cell_type": "markdown",
   "metadata": {},
   "source": [
    "Para empezar el analisis es necesario llamar los datos del CSV con la funcion pd.read_csv llamando al archivo \"Child smokers.csv"
   ]
  },
  {
   "cell_type": "code",
   "execution_count": 105,
   "metadata": {
    "scrolled": false
   },
   "outputs": [
    {
     "data": {
      "text/html": [
       "<div>\n",
       "<style scoped>\n",
       "    .dataframe tbody tr th:only-of-type {\n",
       "        vertical-align: middle;\n",
       "    }\n",
       "\n",
       "    .dataframe tbody tr th {\n",
       "        vertical-align: top;\n",
       "    }\n",
       "\n",
       "    .dataframe thead th {\n",
       "        text-align: right;\n",
       "    }\n",
       "</style>\n",
       "<table border=\"1\" class=\"dataframe\">\n",
       "  <thead>\n",
       "    <tr style=\"text-align: right;\">\n",
       "      <th></th>\n",
       "      <th>Age (years)</th>\n",
       "      <th>Height (cm)</th>\n",
       "      <th>FEV (litres)</th>\n",
       "      <th>Sex</th>\n",
       "      <th>Smoker</th>\n",
       "    </tr>\n",
       "  </thead>\n",
       "  <tbody>\n",
       "    <tr>\n",
       "      <th>0</th>\n",
       "      <td>9</td>\n",
       "      <td>145</td>\n",
       "      <td>1.708</td>\n",
       "      <td>female</td>\n",
       "      <td>non</td>\n",
       "    </tr>\n",
       "    <tr>\n",
       "      <th>1</th>\n",
       "      <td>8</td>\n",
       "      <td>171</td>\n",
       "      <td>1.724</td>\n",
       "      <td>female</td>\n",
       "      <td>non</td>\n",
       "    </tr>\n",
       "    <tr>\n",
       "      <th>2</th>\n",
       "      <td>7</td>\n",
       "      <td>138</td>\n",
       "      <td>1.720</td>\n",
       "      <td>female</td>\n",
       "      <td>non</td>\n",
       "    </tr>\n",
       "    <tr>\n",
       "      <th>3</th>\n",
       "      <td>9</td>\n",
       "      <td>135</td>\n",
       "      <td>1.558</td>\n",
       "      <td>male</td>\n",
       "      <td>non</td>\n",
       "    </tr>\n",
       "    <tr>\n",
       "      <th>4</th>\n",
       "      <td>9</td>\n",
       "      <td>145</td>\n",
       "      <td>1.895</td>\n",
       "      <td>male</td>\n",
       "      <td>non</td>\n",
       "    </tr>\n",
       "    <tr>\n",
       "      <th>...</th>\n",
       "      <td>...</td>\n",
       "      <td>...</td>\n",
       "      <td>...</td>\n",
       "      <td>...</td>\n",
       "      <td>...</td>\n",
       "    </tr>\n",
       "    <tr>\n",
       "      <th>649</th>\n",
       "      <td>15</td>\n",
       "      <td>152</td>\n",
       "      <td>2.278</td>\n",
       "      <td>female</td>\n",
       "      <td>smoker</td>\n",
       "    </tr>\n",
       "    <tr>\n",
       "      <th>650</th>\n",
       "      <td>16</td>\n",
       "      <td>183</td>\n",
       "      <td>4.872</td>\n",
       "      <td>male</td>\n",
       "      <td>smoker</td>\n",
       "    </tr>\n",
       "    <tr>\n",
       "      <th>651</th>\n",
       "      <td>16</td>\n",
       "      <td>170</td>\n",
       "      <td>4.270</td>\n",
       "      <td>male</td>\n",
       "      <td>smoker</td>\n",
       "    </tr>\n",
       "    <tr>\n",
       "      <th>652</th>\n",
       "      <td>15</td>\n",
       "      <td>173</td>\n",
       "      <td>3.727</td>\n",
       "      <td>male</td>\n",
       "      <td>smoker</td>\n",
       "    </tr>\n",
       "    <tr>\n",
       "      <th>653</th>\n",
       "      <td>16</td>\n",
       "      <td>160</td>\n",
       "      <td>2.795</td>\n",
       "      <td>female</td>\n",
       "      <td>smoker</td>\n",
       "    </tr>\n",
       "  </tbody>\n",
       "</table>\n",
       "<p>654 rows × 5 columns</p>\n",
       "</div>"
      ],
      "text/plain": [
       "     Age (years)  Height (cm)  FEV (litres)     Sex  Smoker\n",
       "0              9          145         1.708  female     non\n",
       "1              8          171         1.724  female     non\n",
       "2              7          138         1.720  female     non\n",
       "3              9          135         1.558    male     non\n",
       "4              9          145         1.895    male     non\n",
       "..           ...          ...           ...     ...     ...\n",
       "649           15          152         2.278  female  smoker\n",
       "650           16          183         4.872    male  smoker\n",
       "651           16          170         4.270    male  smoker\n",
       "652           15          173         3.727    male  smoker\n",
       "653           16          160         2.795  female  smoker\n",
       "\n",
       "[654 rows x 5 columns]"
      ]
     },
     "execution_count": 105,
     "metadata": {},
     "output_type": "execute_result"
    }
   ],
   "source": [
    "data = pd.read_csv('Child smokers.csv')\n",
    "data"
   ]
  },
  {
   "cell_type": "markdown",
   "metadata": {},
   "source": [
    "Se utilizo varios metodos para poder hacer un estudio preliminar para ver si iba a ser necesario cambiar los datos de alguna manera.\n",
    "\n",
    "Se utilizo la funcion .describe() para poder ver calculos rapidos sobre el numero de datos por columna, le media, mediana y la desviacion, al igual que el valor maximo y minimo.\n",
    "\n",
    "Se puede ver que los datos estan completos y no existe errores entre si. Vemos que la altura es la variable con mas desviacion por lo cual es la que mas variaciones ha de tener."
   ]
  },
  {
   "cell_type": "code",
   "execution_count": 106,
   "metadata": {},
   "outputs": [
    {
     "data": {
      "text/html": [
       "<div>\n",
       "<style scoped>\n",
       "    .dataframe tbody tr th:only-of-type {\n",
       "        vertical-align: middle;\n",
       "    }\n",
       "\n",
       "    .dataframe tbody tr th {\n",
       "        vertical-align: top;\n",
       "    }\n",
       "\n",
       "    .dataframe thead th {\n",
       "        text-align: right;\n",
       "    }\n",
       "</style>\n",
       "<table border=\"1\" class=\"dataframe\">\n",
       "  <thead>\n",
       "    <tr style=\"text-align: right;\">\n",
       "      <th></th>\n",
       "      <th>Age (years)</th>\n",
       "      <th>Height (cm)</th>\n",
       "      <th>FEV (litres)</th>\n",
       "    </tr>\n",
       "  </thead>\n",
       "  <tbody>\n",
       "    <tr>\n",
       "      <th>count</th>\n",
       "      <td>654.000000</td>\n",
       "      <td>654.000000</td>\n",
       "      <td>654.000000</td>\n",
       "    </tr>\n",
       "    <tr>\n",
       "      <th>mean</th>\n",
       "      <td>9.931193</td>\n",
       "      <td>155.298165</td>\n",
       "      <td>2.636780</td>\n",
       "    </tr>\n",
       "    <tr>\n",
       "      <th>std</th>\n",
       "      <td>2.953935</td>\n",
       "      <td>14.471647</td>\n",
       "      <td>0.867059</td>\n",
       "    </tr>\n",
       "    <tr>\n",
       "      <th>min</th>\n",
       "      <td>3.000000</td>\n",
       "      <td>117.000000</td>\n",
       "      <td>0.791000</td>\n",
       "    </tr>\n",
       "    <tr>\n",
       "      <th>25%</th>\n",
       "      <td>8.000000</td>\n",
       "      <td>145.000000</td>\n",
       "      <td>1.981000</td>\n",
       "    </tr>\n",
       "    <tr>\n",
       "      <th>50%</th>\n",
       "      <td>10.000000</td>\n",
       "      <td>156.000000</td>\n",
       "      <td>2.547500</td>\n",
       "    </tr>\n",
       "    <tr>\n",
       "      <th>75%</th>\n",
       "      <td>12.000000</td>\n",
       "      <td>166.000000</td>\n",
       "      <td>3.118500</td>\n",
       "    </tr>\n",
       "    <tr>\n",
       "      <th>max</th>\n",
       "      <td>19.000000</td>\n",
       "      <td>188.000000</td>\n",
       "      <td>5.793000</td>\n",
       "    </tr>\n",
       "  </tbody>\n",
       "</table>\n",
       "</div>"
      ],
      "text/plain": [
       "       Age (years)  Height (cm)  FEV (litres)\n",
       "count   654.000000   654.000000    654.000000\n",
       "mean      9.931193   155.298165      2.636780\n",
       "std       2.953935    14.471647      0.867059\n",
       "min       3.000000   117.000000      0.791000\n",
       "25%       8.000000   145.000000      1.981000\n",
       "50%      10.000000   156.000000      2.547500\n",
       "75%      12.000000   166.000000      3.118500\n",
       "max      19.000000   188.000000      5.793000"
      ]
     },
     "execution_count": 106,
     "metadata": {},
     "output_type": "execute_result"
    }
   ],
   "source": [
    "data.describe()"
   ]
  },
  {
   "cell_type": "markdown",
   "metadata": {},
   "source": [
    "Una funcion sencilla para poder identificar todos los grupos de la base de datos."
   ]
  },
  {
   "cell_type": "code",
   "execution_count": 118,
   "metadata": {},
   "outputs": [
    {
     "data": {
      "text/plain": [
       "Index(['Age (years)', 'Height (cm)', 'FEV (litres)', 'Sex', 'Smoker'], dtype='object')"
      ]
     },
     "execution_count": 118,
     "metadata": {},
     "output_type": "execute_result"
    }
   ],
   "source": [
    "data.columns"
   ]
  },
  {
   "cell_type": "markdown",
   "metadata": {},
   "source": [
    "Otra funcion sencilla que nos permite identificar que los tipos de la informacion que maneja cada columna.\n",
    "Se puede identificar que la columna Sex y Smoker tienen valores de object, asi que podra ser necesario tener que modificar su tipo."
   ]
  },
  {
   "cell_type": "code",
   "execution_count": 119,
   "metadata": {},
   "outputs": [
    {
     "data": {
      "text/plain": [
       "Age (years)       int64\n",
       "Height (cm)       int64\n",
       "FEV (litres)    float64\n",
       "Sex              object\n",
       "Smoker           object\n",
       "dtype: object"
      ]
     },
     "execution_count": 119,
     "metadata": {},
     "output_type": "execute_result"
    }
   ],
   "source": [
    "data.dtypes"
   ]
  },
  {
   "cell_type": "markdown",
   "metadata": {},
   "source": [
    "Se utilizo las funciones .min() y .max() para poder identificar el rango de los valores numericos que servira al momento de graficar."
   ]
  },
  {
   "cell_type": "code",
   "execution_count": 121,
   "metadata": {},
   "outputs": [
    {
     "name": "stdout",
     "output_type": "stream",
     "text": [
      "El rango de Age es de 3  a 19\n",
      "El rango de Height es de 117  a 188\n",
      "El rango de FEV es de 0.7909999999999999  a 5.792999999999999\n"
     ]
    }
   ],
   "source": [
    "print(\"El rango de Age es de\",data['Age (years)'].min(),\" a\",data['Age (years)'].max())\n",
    "print(\"El rango de Height es de\",data['Height (cm)'].min(),\" a\",data['Height (cm)'].max())\n",
    "print(\"El rango de FEV es de\",data['FEV (litres)'].min(),\" a\",data['FEV (litres)'].max())"
   ]
  },
  {
   "cell_type": "markdown",
   "metadata": {},
   "source": [
    "Para poder modificar los datos no numericos en nuestra tabla fue necesario utilizar las funciones .astype('category').cat.codes que convirtio los valores de 'objeto' a 'category'. \n",
    "\n",
    "Se creo un nuevo data frame llamado data2 para con las columnas modificadas."
   ]
  },
  {
   "cell_type": "code",
   "execution_count": 122,
   "metadata": {},
   "outputs": [
    {
     "data": {
      "text/html": [
       "<div>\n",
       "<style scoped>\n",
       "    .dataframe tbody tr th:only-of-type {\n",
       "        vertical-align: middle;\n",
       "    }\n",
       "\n",
       "    .dataframe tbody tr th {\n",
       "        vertical-align: top;\n",
       "    }\n",
       "\n",
       "    .dataframe thead th {\n",
       "        text-align: right;\n",
       "    }\n",
       "</style>\n",
       "<table border=\"1\" class=\"dataframe\">\n",
       "  <thead>\n",
       "    <tr style=\"text-align: right;\">\n",
       "      <th></th>\n",
       "      <th>Age (years)</th>\n",
       "      <th>Height (cm)</th>\n",
       "      <th>FEV (litres)</th>\n",
       "      <th>Sex</th>\n",
       "      <th>Smoker</th>\n",
       "    </tr>\n",
       "  </thead>\n",
       "  <tbody>\n",
       "    <tr>\n",
       "      <th>0</th>\n",
       "      <td>9</td>\n",
       "      <td>145</td>\n",
       "      <td>1.708</td>\n",
       "      <td>0</td>\n",
       "      <td>0</td>\n",
       "    </tr>\n",
       "    <tr>\n",
       "      <th>1</th>\n",
       "      <td>8</td>\n",
       "      <td>171</td>\n",
       "      <td>1.724</td>\n",
       "      <td>0</td>\n",
       "      <td>0</td>\n",
       "    </tr>\n",
       "    <tr>\n",
       "      <th>2</th>\n",
       "      <td>7</td>\n",
       "      <td>138</td>\n",
       "      <td>1.720</td>\n",
       "      <td>0</td>\n",
       "      <td>0</td>\n",
       "    </tr>\n",
       "    <tr>\n",
       "      <th>3</th>\n",
       "      <td>9</td>\n",
       "      <td>135</td>\n",
       "      <td>1.558</td>\n",
       "      <td>1</td>\n",
       "      <td>0</td>\n",
       "    </tr>\n",
       "    <tr>\n",
       "      <th>4</th>\n",
       "      <td>9</td>\n",
       "      <td>145</td>\n",
       "      <td>1.895</td>\n",
       "      <td>1</td>\n",
       "      <td>0</td>\n",
       "    </tr>\n",
       "    <tr>\n",
       "      <th>...</th>\n",
       "      <td>...</td>\n",
       "      <td>...</td>\n",
       "      <td>...</td>\n",
       "      <td>...</td>\n",
       "      <td>...</td>\n",
       "    </tr>\n",
       "    <tr>\n",
       "      <th>649</th>\n",
       "      <td>15</td>\n",
       "      <td>152</td>\n",
       "      <td>2.278</td>\n",
       "      <td>0</td>\n",
       "      <td>1</td>\n",
       "    </tr>\n",
       "    <tr>\n",
       "      <th>650</th>\n",
       "      <td>16</td>\n",
       "      <td>183</td>\n",
       "      <td>4.872</td>\n",
       "      <td>1</td>\n",
       "      <td>1</td>\n",
       "    </tr>\n",
       "    <tr>\n",
       "      <th>651</th>\n",
       "      <td>16</td>\n",
       "      <td>170</td>\n",
       "      <td>4.270</td>\n",
       "      <td>1</td>\n",
       "      <td>1</td>\n",
       "    </tr>\n",
       "    <tr>\n",
       "      <th>652</th>\n",
       "      <td>15</td>\n",
       "      <td>173</td>\n",
       "      <td>3.727</td>\n",
       "      <td>1</td>\n",
       "      <td>1</td>\n",
       "    </tr>\n",
       "    <tr>\n",
       "      <th>653</th>\n",
       "      <td>16</td>\n",
       "      <td>160</td>\n",
       "      <td>2.795</td>\n",
       "      <td>0</td>\n",
       "      <td>1</td>\n",
       "    </tr>\n",
       "  </tbody>\n",
       "</table>\n",
       "<p>654 rows × 5 columns</p>\n",
       "</div>"
      ],
      "text/plain": [
       "     Age (years)  Height (cm)  FEV (litres)  Sex  Smoker\n",
       "0              9          145         1.708    0       0\n",
       "1              8          171         1.724    0       0\n",
       "2              7          138         1.720    0       0\n",
       "3              9          135         1.558    1       0\n",
       "4              9          145         1.895    1       0\n",
       "..           ...          ...           ...  ...     ...\n",
       "649           15          152         2.278    0       1\n",
       "650           16          183         4.872    1       1\n",
       "651           16          170         4.270    1       1\n",
       "652           15          173         3.727    1       1\n",
       "653           16          160         2.795    0       1\n",
       "\n",
       "[654 rows x 5 columns]"
      ]
     },
     "execution_count": 122,
     "metadata": {},
     "output_type": "execute_result"
    }
   ],
   "source": [
    "data['Sex'] = data['Sex'].astype('category').cat.codes\n",
    "data['Smoker'] = data['Smoker'].astype('category').cat.codes\n",
    "\n",
    "data2 = pd.DataFrame(data)\n",
    "data2"
   ]
  },
  {
   "cell_type": "markdown",
   "metadata": {},
   "source": [
    "Empezamos la graficacion con graficas hitograficas. Para empezar el proceso es necesario llamar la libreria collections e importar la funcion Counter. Se guardo los datos de la columna que quieres graficar en la variable valores y esta se pasa por la funcion counter. Se indica los parametros de las barras de los datos, de la distribucion de la informacion y de las etiquetas. Por ultimo un plt.show() para mostrar graficar.\n",
    "\n",
    "En la primera grafica podemos ver que la mayoria de la informacion es de niños de entre 7 y 13 años."
   ]
  },
  {
   "cell_type": "code",
   "execution_count": 123,
   "metadata": {
    "scrolled": false
   },
   "outputs": [
    {
     "data": {
      "image/png": "[encoded data removed]",
      "text/plain": [
       "<Figure size 432x288 with 1 Axes>"
      ]
     },
     "metadata": {},
     "output_type": "display_data"
    }
   ],
   "source": [
    "from collections import Counter\n",
    "valores = data2[\"Age (years)\"]\n",
    "histogram = Counter(min(valor//1*1,20)for valor in valores)\n",
    "plt.bar([x for x in histogram.keys()],histogram.values(),1,edgecolor = (0,0,0))\n",
    "plt.xticks([i for i in range(20)])\n",
    "plt.xlabel(\"Edad\")\n",
    "plt.ylabel(\"# de niños\")\n",
    "plt.title(\"Distribucion de Age (years)\")\n",
    "plt.show()"
   ]
  },
  {
   "cell_type": "markdown",
   "metadata": {},
   "source": [
    "En la grafica de FEV tenemos menos variables asi que podemos ver que la mayoria de los niños tienen una FEV de approximadamente 2 litros por segundo."
   ]
  },
  {
   "cell_type": "code",
   "execution_count": 126,
   "metadata": {},
   "outputs": [
    {
     "data": {
      "image/png": "[encoded data removed]",
      "text/plain": [
       "<Figure size 432x288 with 1 Axes>"
      ]
     },
     "metadata": {},
     "output_type": "display_data"
    }
   ],
   "source": [
    "valores = data[\"FEV (litres)\"]\n",
    "histogram = Counter(min(valor//1*1,6)for valor in valores)\n",
    "plt.bar([x for x in histogram.keys()],histogram.values(),1,edgecolor = (0,0,0))\n",
    "plt.xticks([i for i in range(6)])\n",
    "plt.xlabel(\"FEV en litros\")\n",
    "plt.ylabel(\"# de niños\")\n",
    "plt.title(\"Distribucion de FEV (litros)\")\n",
    "plt.show()"
   ]
  },
  {
   "cell_type": "markdown",
   "metadata": {},
   "source": [
    "En la grafica de altura se nota que hay pocas personas altas y pocas personas muy pequeñas la mayoria de las personas rondan entre 160 cm."
   ]
  },
  {
   "cell_type": "code",
   "execution_count": 125,
   "metadata": {},
   "outputs": [
    {
     "data": {
      "image/png": "[encoded data removed]",
      "text/plain": [
       "<Figure size 432x288 with 1 Axes>"
      ]
     },
     "metadata": {},
     "output_type": "display_data"
    }
   ],
   "source": [
    "valores = data2[\"Height (cm)\"]\n",
    "histogram = Counter(min(valor//10*10,190)for valor in valores)\n",
    "plt.bar([x+10 for x in histogram.keys()],histogram.values(),10,edgecolor = (0,0,0))\n",
    "plt.xticks([i*10 for i in range(19)])\n",
    "plt.xlabel(\"Altura\")\n",
    "plt.ylabel(\"# de niños\")\n",
    "plt.title(\"Distribucion de Height (cm)\")\n",
    "plt.show()"
   ]
  },
  {
   "cell_type": "markdown",
   "metadata": {},
   "source": [
    "Las ultimas graficas son mas sencillas de interpretar. La de tabla de Sex solo tiene dos variables 1 siendo hombrers y 0 mujeres. Se puede ver que la cantidad de hombres es mayor que mujeres por muy poco."
   ]
  },
  {
   "cell_type": "code",
   "execution_count": 127,
   "metadata": {},
   "outputs": [
    {
     "data": {
      "image/png": "[encoded data removed]",
      "text/plain": [
       "<Figure size 432x288 with 1 Axes>"
      ]
     },
     "metadata": {},
     "output_type": "display_data"
    }
   ],
   "source": [
    "valores = data2[\"Sex\"]\n",
    "histogram = Counter(min(valor//1*1,2)for valor in valores)\n",
    "plt.bar([x for x in histogram.keys()],histogram.values(),1,edgecolor = (0,0,0))\n",
    "plt.xticks([i for i in range(2)])\n",
    "plt.xlabel(\"Sexo\")\n",
    "plt.ylabel(\"# de niños\")\n",
    "plt.title(\"Distribucion de Sex\")\n",
    "plt.show()"
   ]
  },
  {
   "cell_type": "markdown",
   "metadata": {},
   "source": [
    "La tabla de Smoker tambien solo tiene 2 variables. 0 siendo no fumadores y 1 siendo gente que si fuma. Existen bien pocas personas que fuman en la base de datos."
   ]
  },
  {
   "cell_type": "code",
   "execution_count": 114,
   "metadata": {},
   "outputs": [
    {
     "data": {
      "image/png": "[encoded data removed]",
      "text/plain": [
       "<Figure size 432x288 with 1 Axes>"
      ]
     },
     "metadata": {},
     "output_type": "display_data"
    }
   ],
   "source": [
    "valores = data2[\"Smoker\"]\n",
    "histogram = Counter(min(valor//1*1,2)for valor in valores)\n",
    "plt.bar([x for x in histogram.keys()],histogram.values(),1,edgecolor = (0,0,0))\n",
    "plt.xticks([i for i in range(2)])\n",
    "plt.xlabel(\"Fumadores\")\n",
    "plt.ylabel(\"# de niños\")\n",
    "plt.title(\"Distribucion de Smoker\")\n",
    "plt.show()"
   ]
  },
  {
   "cell_type": "markdown",
   "metadata": {},
   "source": [
    "Antes de empezar la graficacion del mapa de calor y los boxplots va ser necesario normalizar los datos. Este proceso convierte el maximo de un rango de valores a 1 y su minimo a 0 y todos los numeros de entre medio un valor relativo a su posicion entre ese esos numeros.\n",
    "\n",
    "Para esto es necesario llamar a la biblioteca sklearn.preprocessing e importar la funcion MinMaxScaler. Se pasa la funcion en los valores de la tabla y se convierten en un nuevo data frame llamado dataf."
   ]
  },
  {
   "cell_type": "code",
   "execution_count": 115,
   "metadata": {},
   "outputs": [
    {
     "data": {
      "text/html": [
       "<div>\n",
       "<style scoped>\n",
       "    .dataframe tbody tr th:only-of-type {\n",
       "        vertical-align: middle;\n",
       "    }\n",
       "\n",
       "    .dataframe tbody tr th {\n",
       "        vertical-align: top;\n",
       "    }\n",
       "\n",
       "    .dataframe thead th {\n",
       "        text-align: right;\n",
       "    }\n",
       "</style>\n",
       "<table border=\"1\" class=\"dataframe\">\n",
       "  <thead>\n",
       "    <tr style=\"text-align: right;\">\n",
       "      <th></th>\n",
       "      <th>Age (years)</th>\n",
       "      <th>Height (cm)</th>\n",
       "      <th>FEV (litres)</th>\n",
       "      <th>Sex</th>\n",
       "      <th>Smoker</th>\n",
       "    </tr>\n",
       "  </thead>\n",
       "  <tbody>\n",
       "    <tr>\n",
       "      <th>0</th>\n",
       "      <td>0.3750</td>\n",
       "      <td>0.394366</td>\n",
       "      <td>0.183327</td>\n",
       "      <td>0.0</td>\n",
       "      <td>0.0</td>\n",
       "    </tr>\n",
       "    <tr>\n",
       "      <th>1</th>\n",
       "      <td>0.3125</td>\n",
       "      <td>0.760563</td>\n",
       "      <td>0.186525</td>\n",
       "      <td>0.0</td>\n",
       "      <td>0.0</td>\n",
       "    </tr>\n",
       "    <tr>\n",
       "      <th>2</th>\n",
       "      <td>0.2500</td>\n",
       "      <td>0.295775</td>\n",
       "      <td>0.185726</td>\n",
       "      <td>0.0</td>\n",
       "      <td>0.0</td>\n",
       "    </tr>\n",
       "    <tr>\n",
       "      <th>3</th>\n",
       "      <td>0.3750</td>\n",
       "      <td>0.253521</td>\n",
       "      <td>0.153339</td>\n",
       "      <td>1.0</td>\n",
       "      <td>0.0</td>\n",
       "    </tr>\n",
       "    <tr>\n",
       "      <th>4</th>\n",
       "      <td>0.3750</td>\n",
       "      <td>0.394366</td>\n",
       "      <td>0.220712</td>\n",
       "      <td>1.0</td>\n",
       "      <td>0.0</td>\n",
       "    </tr>\n",
       "    <tr>\n",
       "      <th>...</th>\n",
       "      <td>...</td>\n",
       "      <td>...</td>\n",
       "      <td>...</td>\n",
       "      <td>...</td>\n",
       "      <td>...</td>\n",
       "    </tr>\n",
       "    <tr>\n",
       "      <th>649</th>\n",
       "      <td>0.7500</td>\n",
       "      <td>0.492958</td>\n",
       "      <td>0.297281</td>\n",
       "      <td>0.0</td>\n",
       "      <td>1.0</td>\n",
       "    </tr>\n",
       "    <tr>\n",
       "      <th>650</th>\n",
       "      <td>0.8125</td>\n",
       "      <td>0.929577</td>\n",
       "      <td>0.815874</td>\n",
       "      <td>1.0</td>\n",
       "      <td>1.0</td>\n",
       "    </tr>\n",
       "    <tr>\n",
       "      <th>651</th>\n",
       "      <td>0.8125</td>\n",
       "      <td>0.746479</td>\n",
       "      <td>0.695522</td>\n",
       "      <td>1.0</td>\n",
       "      <td>1.0</td>\n",
       "    </tr>\n",
       "    <tr>\n",
       "      <th>652</th>\n",
       "      <td>0.7500</td>\n",
       "      <td>0.788732</td>\n",
       "      <td>0.586965</td>\n",
       "      <td>1.0</td>\n",
       "      <td>1.0</td>\n",
       "    </tr>\n",
       "    <tr>\n",
       "      <th>653</th>\n",
       "      <td>0.8125</td>\n",
       "      <td>0.605634</td>\n",
       "      <td>0.400640</td>\n",
       "      <td>0.0</td>\n",
       "      <td>1.0</td>\n",
       "    </tr>\n",
       "  </tbody>\n",
       "</table>\n",
       "<p>654 rows × 5 columns</p>\n",
       "</div>"
      ],
      "text/plain": [
       "     Age (years)  Height (cm)  FEV (litres)  Sex  Smoker\n",
       "0         0.3750     0.394366      0.183327  0.0     0.0\n",
       "1         0.3125     0.760563      0.186525  0.0     0.0\n",
       "2         0.2500     0.295775      0.185726  0.0     0.0\n",
       "3         0.3750     0.253521      0.153339  1.0     0.0\n",
       "4         0.3750     0.394366      0.220712  1.0     0.0\n",
       "..           ...          ...           ...  ...     ...\n",
       "649       0.7500     0.492958      0.297281  0.0     1.0\n",
       "650       0.8125     0.929577      0.815874  1.0     1.0\n",
       "651       0.8125     0.746479      0.695522  1.0     1.0\n",
       "652       0.7500     0.788732      0.586965  1.0     1.0\n",
       "653       0.8125     0.605634      0.400640  0.0     1.0\n",
       "\n",
       "[654 rows x 5 columns]"
      ]
     },
     "execution_count": 115,
     "metadata": {},
     "output_type": "execute_result"
    }
   ],
   "source": [
    "from sklearn.preprocessing import MinMaxScaler\n",
    "min_max = MinMaxScaler()\n",
    "data1 = data2\n",
    "data3 = min_max.fit_transform(data1.values)\n",
    "dataf = pd.DataFrame(data3, columns=data1.columns)\n",
    "dataf"
   ]
  },
  {
   "cell_type": "markdown",
   "metadata": {},
   "source": [
    "Para crear el heat map es necesario crear una matriz con los valores nuevos del paso pasado. Se crea con la funcion .corr(). Despues de crear el matrix de correlacion se pasa por la funcion .heatmap y nos forma nuestro mapa de calor.\n",
    "\n",
    "Se puede intepretar por el mapa de calor que los pares que tienen mas correlacion positiva son:\n",
    "- Height y Age\n",
    "- FEV y Height\n",
    "- FEV y Age\n",
    "\n",
    "Los pares que llegan a tener correlacion negativa es:\n",
    "- Sex y Smoker\n",
    "\n",
    "Esto nos indica en este caso que los menos mujeres fuman a comparacion con los hombres."
   ]
  },
  {
   "cell_type": "code",
   "execution_count": 128,
   "metadata": {},
   "outputs": [
    {
     "data": {
      "text/plain": [
       "<AxesSubplot:>"
      ]
     },
     "execution_count": 128,
     "metadata": {},
     "output_type": "execute_result"
    },
    {
     "data": {
      "image/png": "[encoded data removed]",
      "text/plain": [
       "<Figure size 432x288 with 2 Axes>"
      ]
     },
     "metadata": {},
     "output_type": "display_data"
    }
   ],
   "source": [
    "c_matrix = dataf.corr().round(2)\n",
    "sns.heatmap(data=c_matrix, vmin = -1,annot=True)"
   ]
  },
  {
   "cell_type": "markdown",
   "metadata": {},
   "source": [
    "Por ultimo se crearan las graficas Boxplot. Para esto se generan los datos que vamos utilizar en una variable llamado datos donde solo guardaremos los datos de Age, Fev y Height que usaremos en el analisis para esta forma de graficacion. Se prepara la figura con plt.figure, se declaran los ejes con fig.add_axes y se pasan los datos por la funcion boxplot. Despues se declaran las etiquetas para que se mas facil de interpretar visualmente y se muestra con la funcion plt.show.\n",
    "\n",
    "A primera vista se puede ver que en los datos de FEV existen muchos outliners, esto puede llegar a afectar los resultados o hacerlos no del todo correctos. Los datos de Height son los unicos sin ningun outliner que afecte su informacion."
   ]
  },
  {
   "cell_type": "code",
   "execution_count": 129,
   "metadata": {},
   "outputs": [
    {
     "data": {
      "image/png": "[encoded data removed]",
      "text/plain": [
       "<Figure size 720x504 with 1 Axes>"
      ]
     },
     "metadata": {},
     "output_type": "display_data"
    }
   ],
   "source": [
    "datos = [dataf['Age (years)'],dataf['FEV (litres)'],dataf['Height (cm)']]\n",
    "fig = plt.figure(figsize=(10,7))\n",
    "ax=fig.add_axes([0,0,1,1])\n",
    "bp= ax.boxplot(datos)\n",
    "labels = ('Age (years)','FEV (litres)','Height (cm)')\n",
    "plt.xticks(np.arange(len(labels))+1,labels)\n",
    "plt.show()"
   ]
  }
 ],
 "metadata": {
  "kernelspec": {
   "display_name": "Python 3",
   "language": "python",
   "name": "python3"
  },
  "language_info": {
   "codemirror_mode": {
    "name": "ipython",
    "version": 3
   },
   "file_extension": ".py",
   "mimetype": "text/x-python",
   "name": "python",
   "nbconvert_exporter": "python",
   "pygments_lexer": "ipython3",
   "version": "3.8.5"
  }
 },
 "nbformat": 4,
 "nbformat_minor": 4
}
